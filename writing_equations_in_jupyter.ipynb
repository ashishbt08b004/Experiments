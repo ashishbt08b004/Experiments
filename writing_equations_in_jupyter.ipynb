{
 "cells": [
  {
   "cell_type": "markdown",
   "metadata": {},
   "source": [
    "# Writing Mathematical Equations in Jupyter"
   ]
  },
  {
   "cell_type": "markdown",
   "metadata": {},
   "source": [
    "##### Instructions to write equations\n",
    "1) Select the cell type to be 'Markdown'. It is 'Code' by default for a new cell. <br>\n",
    "2) Enclose the equation between \"$$\". <br>\n",
    "3) Keywords and symbols like frac (fractions), times (multiplication), leq (less than or equal to), alpha, beta etc. are preceded by '\\' . <br>\n",
    "4) Note that double clicking on a rendered Markdown cell takes it back to LaTex/MathJax code snippet.\n"
   ]
  },
  {
   "cell_type": "markdown",
   "metadata": {},
   "source": [
    "#### Content \n",
    "* [Simple Operations](#Simple_Operations) <br>\n",
    "* [Powers](#Powers) <br>\n",
    "* [Fractions](#Fractions) <br>\n",
    "* [Inequalities](#Inequalities) <br>\n",
    "* [Symbols And Indices](#Symbols_Indices) <br>\n",
    "* [Roots And Logs](#Roots_Logs) <br>\n",
    "* [Sums And Products](#Sum_Products) <br>\n",
    "* [Probability And Statistics](#Prob_Stats) <br>\n",
    "* [Calculus](#Calculus) <br>\n",
    "* [Special Functions](#MPFunctions) <br>\n",
    "\n"
   ]
  },
  {
   "cell_type": "markdown",
   "metadata": {},
   "source": [
    "* [Simple Operations](#Simple_Operations) "
   ]
  },
  {
   "cell_type": "markdown",
   "metadata": {},
   "source": [
    "* [Simple Operations](#Simple_Operations) "
   ]
  },
  {
   "cell_type": "code",
   "execution_count": null,
   "metadata": {},
   "outputs": [],
   "source": [
    "<a id='Simple_Operations'></a>\n",
    "<a id='Powers'></a>\n",
    "<a id='Fractions'></a>\n",
    "<a id='Inequalities'></a>\n",
    "<a id='Symbols_Indices'></a>\n",
    "<a id='Roots_Logs'></a>\n",
    "<a id='Sum_Products'></a>\n",
    "<a id='Prob_Stats'></a>\n",
    "<a id='Calculus'></a>\n",
    "<a id='Matrix'></a>\n",
    "<a id='MPFunctions'></a>"
   ]
  },
  {
   "cell_type": "markdown",
   "metadata": {},
   "source": [
    "<a id='Simple_Operations'></a>"
   ]
  },
  {
   "cell_type": "markdown",
   "metadata": {},
   "source": [
    "#### Simple Operations"
   ]
  },
  {
   "cell_type": "markdown",
   "metadata": {},
   "source": [
    "\\$$y + x$$"
   ]
  },
  {
   "cell_type": "markdown",
   "metadata": {},
   "source": [
    "$$y + x$$"
   ]
  },
  {
   "cell_type": "markdown",
   "metadata": {},
   "source": [
    "\\$$ y \\times x$$"
   ]
  },
  {
   "cell_type": "markdown",
   "metadata": {},
   "source": [
    "$$ y \\times x$$"
   ]
  },
  {
   "cell_type": "markdown",
   "metadata": {},
   "source": [
    "\\$$ y \\over x$$"
   ]
  },
  {
   "cell_type": "markdown",
   "metadata": {},
   "source": [
    "$$ y \\over x$$"
   ]
  },
  {
   "cell_type": "markdown",
   "metadata": {},
   "source": [
    "<a id='Powers'></a>"
   ]
  },
  {
   "cell_type": "markdown",
   "metadata": {},
   "source": [
    "#### Powers"
   ]
  },
  {
   "cell_type": "markdown",
   "metadata": {},
   "source": [
    "\\$$ x^2 + x^3 + 2x $$"
   ]
  },
  {
   "cell_type": "markdown",
   "metadata": {},
   "source": [
    "$$ x^2 + x^3 + 2x $$"
   ]
  },
  {
   "cell_type": "markdown",
   "metadata": {},
   "source": [
    "$$ e^{2+3y^2+5y}$$"
   ]
  },
  {
   "cell_type": "markdown",
   "metadata": {},
   "source": [
    "$$ e^{2+3y^2+5y}$$"
   ]
  },
  {
   "cell_type": "markdown",
   "metadata": {},
   "source": [
    "$$ e^{1 \\over 2y + 3y^2} $$"
   ]
  },
  {
   "cell_type": "markdown",
   "metadata": {},
   "source": [
    "$$ e^{1 \\over 2y + 3y^2} $$"
   ]
  },
  {
   "cell_type": "markdown",
   "metadata": {},
   "source": [
    "<a id='Fractions'></a>"
   ]
  },
  {
   "cell_type": "markdown",
   "metadata": {},
   "source": [
    "#### Fractions"
   ]
  },
  {
   "cell_type": "markdown",
   "metadata": {},
   "source": [
    "$$(y^3 + y )/ x^2$$"
   ]
  },
  {
   "cell_type": "markdown",
   "metadata": {},
   "source": [
    "$$(y^3 + y )/ x^2$$"
   ]
  },
  {
   "cell_type": "markdown",
   "metadata": {},
   "source": [
    "$$ \\frac {x^2 + 3}  {x^3 + x^2 + 4}$$"
   ]
  },
  {
   "cell_type": "markdown",
   "metadata": {},
   "source": [
    "$$ \\frac {x^2 + 3}  {x^3 + x^2 + 4}$$"
   ]
  },
  {
   "cell_type": "markdown",
   "metadata": {},
   "source": [
    "<a id='Inequalities'></a>"
   ]
  },
  {
   "cell_type": "markdown",
   "metadata": {},
   "source": [
    "#### Inequalities "
   ]
  },
  {
   "cell_type": "markdown",
   "metadata": {},
   "source": [
    "$$0 < x < 1$$"
   ]
  },
  {
   "cell_type": "markdown",
   "metadata": {},
   "source": [
    "$$0 < x < 1$$"
   ]
  },
  {
   "cell_type": "markdown",
   "metadata": {},
   "source": [
    "$$-2 \\leq x \\leq 4$$"
   ]
  },
  {
   "cell_type": "markdown",
   "metadata": {},
   "source": [
    "$$-2 \\leq x \\leq 4$$"
   ]
  },
  {
   "cell_type": "markdown",
   "metadata": {},
   "source": [
    "$$y^2 + 2y + 3 \\geq 0$$"
   ]
  },
  {
   "cell_type": "markdown",
   "metadata": {},
   "source": [
    "$$y^2 + 2y + 3 \\geq 0$$"
   ]
  },
  {
   "cell_type": "markdown",
   "metadata": {},
   "source": [
    "<a id='Symbols_Indices'></a>"
   ]
  },
  {
   "cell_type": "markdown",
   "metadata": {},
   "source": [
    "#### Symbols and Indices"
   ]
  },
  {
   "cell_type": "markdown",
   "metadata": {},
   "source": [
    "$$\\pi \\approx 3.1416$$"
   ]
  },
  {
   "cell_type": "markdown",
   "metadata": {},
   "source": [
    "$$\\pi \\approx 3.1416$$"
   ]
  },
  {
   "cell_type": "markdown",
   "metadata": {},
   "source": [
    "$$ \\alpha + \\beta + \\gamma + \\delta + \\epsilon + \\zeta + \\eta + \\theta + \\zeta + \\kappa + \\lambda + \\mu + \\nu + \\xi + \\omicron + \\pi + \\rho + \\sigma + \\tau + \\upsilon + \\phi + \\chi + \\psi + \\omega$$"
   ]
  },
  {
   "cell_type": "markdown",
   "metadata": {},
   "source": [
    "$$ \\alpha + \\beta + \\gamma + \\delta + \\epsilon + \\zeta + \\eta + \\theta + \\zeta + \\kappa + \\lambda + \\mu + \\nu + \\xi + \\omicron + \\pi + \\rho + \\sigma + \\tau + \\upsilon + \\phi + \\chi + \\psi + \\omega$$"
   ]
  },
  {
   "cell_type": "markdown",
   "metadata": {},
   "source": [
    "$$ A + B + \\Gamma + \\Delta + E + Z + H + \\Theta + I + K + \\Lambda + M + N + \\Xi + O + \\Pi + P + \\Sigma + T + \\Upsilon + \\Phi + X + \\Psi + \\Omega $$"
   ]
  },
  {
   "cell_type": "markdown",
   "metadata": {},
   "source": [
    "$$ A + B + \\Gamma + \\Delta + E + Z + H + \\Theta + I + K + \\Lambda + M + N + \\Xi + O + \\Pi + P + \\Sigma + T + \\Upsilon + \\Phi + X + \\Psi + \\Omega $$"
   ]
  },
  {
   "cell_type": "markdown",
   "metadata": {},
   "source": [
    "$$f(X,n) = X_n + X_{n-1}$$"
   ]
  },
  {
   "cell_type": "markdown",
   "metadata": {},
   "source": [
    "$$f(X,n) = X_n + X_{n-1}$$"
   ]
  },
  {
   "cell_type": "markdown",
   "metadata": {},
   "source": [
    "$$ \\theta_{n+1} = \\alpha*\\theta_{n-1} + (1-\\alpha)*\\theta_n $$"
   ]
  },
  {
   "cell_type": "markdown",
   "metadata": {},
   "source": [
    "$$ \\theta_{n+1} = \\alpha*\\theta_{n-1} + (1-\\alpha)*\\theta_n $$"
   ]
  },
  {
   "cell_type": "markdown",
   "metadata": {},
   "source": [
    "<a id='Roots_Logs'></a>"
   ]
  },
  {
   "cell_type": "markdown",
   "metadata": {},
   "source": [
    "#### Roots and Logs"
   ]
  },
  {
   "cell_type": "markdown",
   "metadata": {},
   "source": [
    "$$ D = \\frac {\\sqrt{b^2-4ac}} {2a} $$"
   ]
  },
  {
   "cell_type": "markdown",
   "metadata": {},
   "source": [
    "$$ D = \\frac {\\sqrt{b^2-4ac}} {2a} $$"
   ]
  },
  {
   "cell_type": "markdown",
   "metadata": {},
   "source": [
    "$$ y = \\frac {\\sqrt[3]{x} + 5} {\\sqrt[4]{x} + 3} $$ "
   ]
  },
  {
   "cell_type": "markdown",
   "metadata": {},
   "source": [
    "$$ y = \\frac {\\sqrt[3]{x} + 5} {\\sqrt[4]{x} + 3} $$"
   ]
  },
  {
   "cell_type": "markdown",
   "metadata": {},
   "source": [
    "$$log_{10} 100 $$"
   ]
  },
  {
   "cell_type": "markdown",
   "metadata": {},
   "source": [
    "$$log_{10} 100 $$"
   ]
  },
  {
   "cell_type": "markdown",
   "metadata": {},
   "source": [
    "$$log_{e} \\theta^2 $$"
   ]
  },
  {
   "cell_type": "markdown",
   "metadata": {},
   "source": [
    "$$log_{e} \\theta^2 $$"
   ]
  },
  {
   "cell_type": "markdown",
   "metadata": {},
   "source": [
    "<a id='Sum_Products'></a>"
   ]
  },
  {
   "cell_type": "markdown",
   "metadata": {},
   "source": [
    "#### Algebraic Sum and Products"
   ]
  },
  {
   "cell_type": "markdown",
   "metadata": {},
   "source": [
    "$$ Error = \\sum \\limits_{i=1}^{n} {(y_i - yhat_i)}^2 $$"
   ]
  },
  {
   "cell_type": "markdown",
   "metadata": {},
   "source": [
    "$$ Error = \\sum \\limits_{i=1}^{n} {(y_i - yhat_i)}^2 $$"
   ]
  },
  {
   "cell_type": "markdown",
   "metadata": {},
   "source": [
    "$$ L = \\prod \\limits_{i=1}^{n} {\\frac {e^\\lambda * \\lambda^i} {i!}} $$"
   ]
  },
  {
   "cell_type": "markdown",
   "metadata": {},
   "source": [
    "$$ L = \\prod \\limits_{i=1}^{n} {\\frac {e^\\lambda * \\lambda^i} {i!}} $$"
   ]
  },
  {
   "cell_type": "markdown",
   "metadata": {},
   "source": [
    "$$ \\sum \\limits_{i=1}^{m} \\sum \\limits_{j=i}^{n} {(a_{ij} + b_{ij})} $$"
   ]
  },
  {
   "cell_type": "markdown",
   "metadata": {},
   "source": [
    "$$ \\sum \\limits_{i=1}^{m} \\sum \\limits_{j=i}^{n} {(a_{ij} + b_{ij})} $$"
   ]
  },
  {
   "cell_type": "markdown",
   "metadata": {},
   "source": [
    "<a id='Prob_Stats'></a>"
   ]
  },
  {
   "cell_type": "markdown",
   "metadata": {},
   "source": [
    "#### Probability And Statistics"
   ]
  },
  {
   "cell_type": "markdown",
   "metadata": {},
   "source": [
    "$$ max(S) = \\max \\limits_{i:x_i \\in \\{S\\}} x_i $$"
   ]
  },
  {
   "cell_type": "markdown",
   "metadata": {},
   "source": [
    "$$P(E=k) = {n \\choose k} p^k (1-p)^{n-k}$$"
   ]
  },
  {
   "cell_type": "markdown",
   "metadata": {},
   "source": [
    "$$P(E=k) = {n \\choose k} p^k (1-p)^{n-k}$$"
   ]
  },
  {
   "cell_type": "markdown",
   "metadata": {},
   "source": [
    "$$P(E \\leq k) = \\sum \\limits_{i=1}^{k} {n \\choose i} p^i (1-p)^{n-i}$$"
   ]
  },
  {
   "cell_type": "markdown",
   "metadata": {},
   "source": [
    "$$P(E \\leq k) = \\sum \\limits_{i=1}^{k} {n \\choose i} p^i (1-p)^{n-i}$$"
   ]
  },
  {
   "cell_type": "markdown",
   "metadata": {},
   "source": [
    "<a id='Calculus'></a>"
   ]
  },
  {
   "cell_type": "markdown",
   "metadata": {},
   "source": [
    "#### Calculus"
   ]
  },
  {
   "cell_type": "markdown",
   "metadata": {},
   "source": [
    "$$ \\lim \\limits_{x \\to 0} {sin(x) \\over x} = 1 $$ "
   ]
  },
  {
   "cell_type": "markdown",
   "metadata": {},
   "source": [
    "$$ \\lim \\limits_{x \\to 0} {sin(x) \\over x} = 1 $$ "
   ]
  },
  {
   "cell_type": "markdown",
   "metadata": {},
   "source": [
    "$$ \\int \\limits_2^\\infty e^x \\, dx $$"
   ]
  },
  {
   "cell_type": "markdown",
   "metadata": {},
   "source": [
    "$$ \\int \\limits_2^\\infty e^x \\, dx $$"
   ]
  },
  {
   "cell_type": "markdown",
   "metadata": {},
   "source": [
    "$$ \\frac {dZ} {dx}$$"
   ]
  },
  {
   "cell_type": "markdown",
   "metadata": {},
   "source": [
    "$$ \\frac {dZ} {dx}$$"
   ]
  },
  {
   "cell_type": "markdown",
   "metadata": {},
   "source": [
    "$$ \\frac {d^2Z} {dx^2}$$"
   ]
  },
  {
   "cell_type": "markdown",
   "metadata": {},
   "source": [
    "$$ \\frac {d^2Z} {dx^2}$$"
   ]
  },
  {
   "cell_type": "markdown",
   "metadata": {},
   "source": [
    "$$ \\frac {\\partial Z} {\\partial x}$$"
   ]
  },
  {
   "cell_type": "markdown",
   "metadata": {},
   "source": [
    "$$ \\frac {\\partial Z} {\\partial x}$$"
   ]
  },
  {
   "cell_type": "markdown",
   "metadata": {},
   "source": [
    "<a id='Matrix'></a>"
   ]
  },
  {
   "cell_type": "markdown",
   "metadata": {},
   "source": [
    "#### Matrix"
   ]
  },
  {
   "cell_type": "markdown",
   "metadata": {},
   "source": [
    "$$ \\begin{matrix} a & b \\\\ c & d \\end{matrix} $$"
   ]
  },
  {
   "cell_type": "markdown",
   "metadata": {},
   "source": [
    "$$ \\begin{matrix} a & b \\\\ c & d \\end{matrix} $$"
   ]
  },
  {
   "cell_type": "markdown",
   "metadata": {},
   "source": [
    "$$ A = \\begin{bmatrix} X_{11} & X_{12} & X_{13} \\\\ X_{21} & X_{22} & X_{23} \\\\ X_{21} & X_{22} & X_{23} \\end{bmatrix} $$"
   ]
  },
  {
   "cell_type": "markdown",
   "metadata": {},
   "source": [
    "$$ A = \\begin{bmatrix} X_{11} & X_{12} & X_{13} \\\\ X_{21} & X_{22} & X_{23} \\\\ X_{21} & X_{22} & X_{23} \\end{bmatrix} $$"
   ]
  },
  {
   "cell_type": "markdown",
   "metadata": {},
   "source": [
    "$$ \\begin{bmatrix} a & b \\\\ c & d \\end{bmatrix}^T $$"
   ]
  },
  {
   "cell_type": "markdown",
   "metadata": {},
   "source": [
    "$$ \\begin{bmatrix} a & b \\\\ c & d \\end{bmatrix}^T $$"
   ]
  },
  {
   "cell_type": "markdown",
   "metadata": {},
   "source": [
    "<a id='MPFunctions'></a>"
   ]
  },
  {
   "cell_type": "markdown",
   "metadata": {},
   "source": [
    "#### Multi-Period Functions"
   ]
  },
  {
   "cell_type": "markdown",
   "metadata": {},
   "source": [
    "$$f(x) = \\left\\{\\begin{array}{ll} ax & \\mbox{if } x \\leq 0 \\\\ x & \\mbox{if } x > 0 \\end{array} \\right. $$"
   ]
  },
  {
   "cell_type": "markdown",
   "metadata": {},
   "source": [
    "$$f(x) = \\left\\{\\begin{array}{ll} ax & \\mbox{if } x \\leq 0 \\\\ x & \\mbox{if } x > 0 \\end{array} \\right. $$"
   ]
  },
  {
   "cell_type": "markdown",
   "metadata": {},
   "source": [
    "\n",
    "\n",
    "$$ \\begin{align}\n",
    "\\dot{x} & = \\sigma(y-x) \\\\\n",
    "\\dot{y} & = \\rho x - y - xz \\\\\n",
    "\\dot{z} & = -\\beta z + xy\n",
    "\\end{align} $$"
   ]
  },
  {
   "cell_type": "markdown",
   "metadata": {},
   "source": [
    "$$ \\begin{align}\n",
    "\\dot{x} & = \\sigma(y-x) \\\\\n",
    "\\dot{y} & = \\rho x - y - xz \\\\\n",
    "\\dot{z} & = -\\beta z + xy\n",
    "\\end{align} $$"
   ]
  },
  {
   "cell_type": "markdown",
   "metadata": {},
   "source": [
    "$$f(x) = \\left\\{\\begin{array}{ll} -x & \\mbox{if } x \\leq -5 \\\\ -5 & \\mbox{if } -5 < x \\leq 5 \\\\ x & \\mbox{if} x \\geq 5 \\end{array} \\right. $$"
   ]
  },
  {
   "cell_type": "markdown",
   "metadata": {},
   "source": [
    "$$f(x) = \\left\\{\\begin{array}{ll} -x & \\mbox{if } x \\leq -5 \\\\ -5 & \\mbox{if } -5 < x \\leq 5 \\\\ x & \\mbox{if} x \\geq 5 \\end{array} \\right. $$"
   ]
  },
  {
   "cell_type": "markdown",
   "metadata": {},
   "source": [
    "##### New formatting options used in multi-period functions\n",
    "* **Large Curly Bracket** - \\left, \\right keywords for denoting the beginning and end <br>\n",
    "* **Equation Array Alignment** - 'begin{}', 'end{}' <br>\n",
    "* **Line Breaker** - \"\\\\\" symbol to take the text to next line <br>\n",
    "* **Text Alignment Box** - '\\mbox{text}' for aligning text"
   ]
  },
  {
   "cell_type": "code",
   "execution_count": 23,
   "metadata": {},
   "outputs": [
    {
     "data": {
      "text/plain": [
       "'C:\\\\Users\\\\Indium Software'"
      ]
     },
     "execution_count": 23,
     "metadata": {},
     "output_type": "execute_result"
    }
   ],
   "source": [
    "import os\n",
    "os.getcwd()"
   ]
  },
  {
   "cell_type": "markdown",
   "metadata": {},
   "source": [
    "![Sample IMage](ch_image.jpg)"
   ]
  },
  {
   "cell_type": "markdown",
   "metadata": {},
   "source": [
    "![Sample Image](ch_image.jpg)"
   ]
  },
  {
   "cell_type": "markdown",
   "metadata": {},
   "source": [
    "![Sample IMage](ml_gif.gif)"
   ]
  },
  {
   "cell_type": "markdown",
   "metadata": {},
   "source": [
    "![Sample IMage](ml_gif.gif)"
   ]
  },
  {
   "cell_type": "markdown",
   "metadata": {},
   "source": [
    "#### Get [Facebook Live Sellers in Thailand Data Set ](http://archive.ics.uci.edu/ml/datasets/Facebook+Live+Sellers+in+Thailand) here."
   ]
  },
  {
   "cell_type": "markdown",
   "metadata": {},
   "source": [
    "#### Get [Facebook Live Sellers in Thailand Data Set ](http://archive.ics.uci.edu/ml/datasets/Facebook+Live+Sellers+in+Thailand) here."
   ]
  },
  {
   "cell_type": "markdown",
   "metadata": {},
   "source": [
    "#### Get [Metro Interstate Traffic Volume Data Set  ](http://archive.ics.uci.edu/ml/datasets/Metro+Interstate+Traffic+Volume) here."
   ]
  },
  {
   "cell_type": "markdown",
   "metadata": {},
   "source": [
    "#### Get [Metro Interstate Traffic Volume Data Set  ](http://archive.ics.uci.edu/ml/datasets/Metro+Interstate+Traffic+Volume) here."
   ]
  },
  {
   "cell_type": "markdown",
   "metadata": {},
   "source": [
    "> Look again at that dot. That's here. That's home. That's us. On it everyone you love, everyone you know, everyone you \n",
    "> ever heard of, every human being who ever was, lived out their lives. The aggregate of our joy and suffering, thousands \n",
    "> of confident religions, ideologies, and economic doctrines, every hunter and forager, every hero and coward, every creator \n",
    "> and destroyer of civilization, every king and peasant, every young couple in love, every mother and father, hopeful child, \n",
    "> inventor and explorer, every teacher of morals, every corrupt politician, every \"superstar,\" every \"supreme leader,\" every \n",
    "> saint and sinner in the history of our species lived there--on a mote of dust suspended in a sunbeam.\n",
    "\n",
    "> The Earth is a very small stage in a vast cosmic arena. Think of the rivers of blood spilled by all those generals and\n",
    "emperors \n",
    "> so that, in glory and triumph, they could become the momentary masters of a fraction of a dot. Think of the endless cruelties \n",
    "> visited by the inhabitants of one corner of this pixel on the scarcely distinguishable inhabitants of some other corner, how \n",
    "> frequent their misunderstandings, how eager they are to kill one another, how fervent their hatreds.\n",
    "\n",
    "> Our posturings, our imagined self-importance, the delusion that we have some privileged position in the Universe, are \n",
    "> challenged by this point of pale light. Our planet is a lonely speck in the great enveloping cosmic dark. In our obscurity, \n",
    "> in all this vastness, there is no hint that help will come from elsewhere to save us from ourselves.\n",
    "\n",
    "> The Earth is the only world known so far to harbor life. There is nowhere else, at least in the near future, to which our\n",
    "> species could migrate. Visit, yes. Settle, not yet. Like it or not, for the moment the Earth is where we make our stand.\n",
    "\n",
    "> It has been said that astronomy is a humbling and character-building experience. There is perhaps no better demonstration of\n",
    "> the folly of human conceits than this distant image of our tiny world. To me, it underscores our responsibility to deal more \n",
    "> kindly with one another, and to preserve and cherish the pale blue dot, the only home we've ever known.\n",
    "\n",
    "<cite> Carl Sagan, Pale Blue Dot, 1994 </cite>"
   ]
  },
  {
   "cell_type": "markdown",
   "metadata": {},
   "source": [
    "> Look again at that dot. That's here. That's home. That's us. On it everyone you love, everyone you know, everyone you \n",
    "> ever heard of, every human being who ever was, lived out their lives. The aggregate of our joy and suffering, thousands \n",
    "> of confident religions, ideologies, and economic doctrines, every hunter and forager, every hero and coward, every creator \n",
    "> and destroyer of civilization, every king and peasant, every young couple in love, every mother and father, hopeful child, \n",
    "> inventor and explorer, every teacher of morals, every corrupt politician, every \"superstar,\" every \"supreme leader,\" every \n",
    "> saint and sinner in the history of our species lived there--on a mote of dust suspended in a sunbeam.\n",
    "\n",
    "> The Earth is a very small stage in a vast cosmic arena. Think of the rivers of blood spilled by all those generals and emperors \n",
    "> so that, in glory and triumph, they could become the momentary masters of a fraction of a dot. Think of the endless cruelties \n",
    "> visited by the inhabitants of one corner of this pixel on the scarcely distinguishable inhabitants of some other corner, how \n",
    "> frequent their misunderstandings, how eager they are to kill one another, how fervent their hatreds.\n",
    "\n",
    "> Our posturings, our imagined self-importance, the delusion that we have some privileged position in the Universe, are \n",
    "> challenged by this point of pale light. Our planet is a lonely speck in the great enveloping cosmic dark. In our obscurity, \n",
    "> in all this vastness, there is no hint that help will come from elsewhere to save us from ourselves.\n",
    "\n",
    "> The Earth is the only world known so far to harbor life. There is nowhere else, at least in the near future, to which our\n",
    "> species could migrate. Visit, yes. Settle, not yet. Like it or not, for the moment the Earth is where we make our stand.\n",
    "\n",
    "> It has been said that astronomy is a humbling and character-building experience. There is perhaps no better demonstration of\n",
    "> the folly of human conceits than this distant image of our tiny world. To me, it underscores our responsibility to deal more \n",
    "> kindly with one another, and to preserve and cherish the pale blue dot, the only home we've ever known.\n",
    "\n",
    "<cite> Carl Sagan, Pale Blue Dot, 1994 </cite>"
   ]
  },
  {
   "cell_type": "code",
   "execution_count": 27,
   "metadata": {},
   "outputs": [
    {
     "name": "stdout",
     "output_type": "stream",
     "text": [
      "Writing chi_sq_test.py\n"
     ]
    }
   ],
   "source": [
    "%%file chi_sq_test.py\n",
    "\n",
    "def chi_sq_stat(data_ob):\n",
    "    col_tot=data_ob.sum(axis=0)\n",
    "    row_tot=data_ob.sum(axis=1)\n",
    "    tot=col_tot.sum(axis=0)\n",
    "    row_tot.shape=(2,1)\n",
    "    data_ex=(col_tot/tot)*row_tot\n",
    "    num,den=(data_ob-data_ex)**2,data_ex\n",
    "    chi=num/den\n",
    "    return chi.sum()\n",
    "    \n",
    "def degree_of_freedom(data_ob):\n",
    "    dof=(data_ob.shape[0]-1)*(data_ex.shape[1]-1)\n",
    "    return dof"
   ]
  },
  {
   "cell_type": "code",
   "execution_count": 29,
   "metadata": {},
   "outputs": [
    {
     "data": {
      "text/plain": [
       "6"
      ]
     },
     "execution_count": 29,
     "metadata": {},
     "output_type": "execute_result"
    }
   ],
   "source": [
    "a=[1,2,3]\n",
    "tot=0\n",
    "for item in a:\n",
    "    tot+=item\n",
    "tot"
   ]
  },
  {
   "cell_type": "code",
   "execution_count": 4,
   "metadata": {},
   "outputs": [
    {
     "name": "stdout",
     "output_type": "stream",
     "text": [
      "Overwriting input_cumsum.py\n"
     ]
    }
   ],
   "source": [
    "%%file input_cumsum.py\n",
    "input_num=[]\n",
    "i=0\n",
    "while len(input_num) < 5:\n",
    "    a = int(input('Please enter a number'))\n",
    "    input_num.append(a)\n",
    "    \n",
    "tot=0\n",
    "for item in input_num:\n",
    "    tot += item\n",
    "print(tot)"
   ]
  },
  {
   "cell_type": "code",
   "execution_count": 5,
   "metadata": {},
   "outputs": [
    {
     "name": "stdout",
     "output_type": "stream",
     "text": [
      "Please enter a number2\n",
      "Please enter a number3\n",
      "Please enter a number4\n",
      "Please enter a number5\n",
      "Please enter a number6\n",
      "20\n"
     ]
    }
   ],
   "source": [
    "%run input_cumsum.py"
   ]
  },
  {
   "cell_type": "markdown",
   "metadata": {},
   "source": [
    "%load input_cumsum.py"
   ]
  },
  {
   "cell_type": "code",
   "execution_count": null,
   "metadata": {},
   "outputs": [],
   "source": [
    "# %load input_cumsum.py\n",
    "input_num=[]\n",
    "i=0\n",
    "while len(input_num) < 5:\n",
    "    a = int(input('Please enter a number'))\n",
    "    input_num.append(a)\n",
    "    \n",
    "tot=0\n",
    "for item in input_num:\n",
    "    tot += item\n",
    "print(tot)"
   ]
  },
  {
   "cell_type": "code",
   "execution_count": null,
   "metadata": {},
   "outputs": [],
   "source": [
    "# %load input_cumsum.py\n",
    "input_num=[]\n",
    "i=0\n",
    "while len(input_num) < 5:\n",
    "    a = int(input('Please enter a number'))\n",
    "    input_num.append(a)\n",
    "    \n",
    "tot=0\n",
    "for item in input_num:\n",
    "    tot += item\n",
    "print(tot)"
   ]
  },
  {
   "cell_type": "markdown",
   "metadata": {},
   "source": [
    "##  <font color=green>Title 2</font>"
   ]
  },
  {
   "cell_type": "markdown",
   "metadata": {},
   "source": [
    "##  <font color=green>Title 2</font>"
   ]
  },
  {
   "cell_type": "markdown",
   "metadata": {},
   "source": [
    "***"
   ]
  },
  {
   "cell_type": "markdown",
   "metadata": {},
   "source": [
    "***"
   ]
  },
  {
   "cell_type": "markdown",
   "metadata": {},
   "source": [
    "---"
   ]
  },
  {
   "cell_type": "markdown",
   "metadata": {},
   "source": [
    "---"
   ]
  },
  {
   "cell_type": "markdown",
   "metadata": {},
   "source": [
    "**Bold** *Italic* "
   ]
  },
  {
   "cell_type": "markdown",
   "metadata": {},
   "source": [
    "**Bold** *Italic* "
   ]
  },
  {
   "cell_type": "markdown",
   "metadata": {},
   "source": [
    "<center> **Bold** *Italic* </center>"
   ]
  },
  {
   "cell_type": "markdown",
   "metadata": {},
   "source": [
    "<center> **Bold** *Italic* </center>"
   ]
  },
  {
   "cell_type": "markdown",
   "metadata": {},
   "source": [
    "<dl>\n",
    "  <dt>Definition list</dt>\n",
    "  <dd>Is something people use sometimes.</dd>\n",
    "\n",
    "  <dt>Markdown in HTML</dt>\n",
    "  <dd>Does *not* work **very** well. Use HTML <em>tags</em>.</dd>\n",
    "</dl>"
   ]
  },
  {
   "cell_type": "markdown",
   "metadata": {},
   "source": [
    "<dl>\n",
    "  <dt>Definition list</dt>\n",
    "  <dd>Is something people use sometimes.</dd>\n",
    "\n",
    "  <dt>Markdown in HTML</dt>\n",
    "  <dd>Does *not* work **very** well. Use HTML <em>tags</em>.</dd>\n",
    "</dl>"
   ]
  },
  {
   "cell_type": "markdown",
   "metadata": {},
   "source": [
    "|Name       |English   |Maths    |Science   |\n",
    "|:----------|---------:|--------:|---------:|\n",
    "|Swapnil    |78        |86       |92        |\n",
    "|Abe        |82        |81       |95        |\n"
   ]
  },
  {
   "cell_type": "markdown",
   "metadata": {},
   "source": [
    "|Name       |English   |Maths    |Science   |\n",
    "|:----------|---------:|--------:|---------:|\n",
    "|Swapnil    |78        |86       |92        |\n",
    "|Abe        |82        |81       |95        |\n"
   ]
  },
  {
   "cell_type": "markdown",
   "metadata": {},
   "source": [
    "!ls"
   ]
  },
  {
   "cell_type": "code",
   "execution_count": null,
   "metadata": {},
   "outputs": [],
   "source": [
    "path ='C:/Users/Indium Software/Chapter 10.ipynb'\n",
    "\n",
    "with io.open(path, 'r', encoding='utf-8') as f:\n",
    "    nb = read(f, 4)\n",
    "    \n",
    "mod = types.ModuleType(fullname)\n",
    "mod.__file__ = path\n",
    "mod.__loader__ = self\n",
    "mod.__dict__['get_ipython'] = get_ipython\n",
    "sys.modules[fullname] = mod"
   ]
  },
  {
   "cell_type": "code",
   "execution_count": 11,
   "metadata": {},
   "outputs": [],
   "source": [
    "import io, os, sys, types\n",
    "from IPython import get_ipython\n",
    "from nbformat import read\n",
    "from IPython.core.interactiveshell import InteractiveShell\n",
    "shell = InteractiveShell.instance()"
   ]
  },
  {
   "cell_type": "markdown",
   "metadata": {},
   "source": [
    "# Heading 1\n",
    "\n",
    "## Heading 2\n",
    "\n",
    "### Heading 3\n",
    "\n",
    "#### Heading 4\n",
    "\n",
    "##### Heading 5"
   ]
  },
  {
   "cell_type": "markdown",
   "metadata": {},
   "source": [
    "# Heading 1\n",
    "\n",
    "## Heading 2\n",
    "\n",
    "### Heading 3\n",
    "\n",
    "#### Heading 4\n",
    "\n",
    "##### Heading 5"
   ]
  },
  {
   "cell_type": "code",
   "execution_count": null,
   "metadata": {},
   "outputs": [],
   "source": [
    "* Simple Operations\n",
    "    * Addition\n",
    "    * Multiplication\n",
    "    * Division\n",
    "* Powers\n",
    "    * Ploynomials\n",
    "    * Exponentials\n",
    "        * Simple Exponential\n",
    "        * Fractional Expoential \n",
    "* Symbols And Indices\n",
    "    * Greek Alphabet Glossary\n",
    "    * Functions And Indices\n",
    "* Calculus\n",
    "    * Limits\n",
    "    * Derivatives\n",
    "    * Integral\n",
    "    * Partial Derivative"
   ]
  },
  {
   "cell_type": "markdown",
   "metadata": {},
   "source": [
    "* Simple Operations\n",
    "    * Addition\n",
    "    * Multiplication\n",
    "    * Division\n",
    "* Powers\n",
    "    * Ploynomials\n",
    "    * Exponentials\n",
    "        * Simple Exponential\n",
    "        * Fractional Expoential \n",
    "* Symbols And Indices\n",
    "    * Greek Alphabet Glossary\n",
    "    * Functions And Indices\n",
    "* Calculus\n",
    "    * Limits\n",
    "    * Derivatives\n",
    "    * Integral\n",
    "    * Partial Derivative"
   ]
  },
  {
   "cell_type": "markdown",
   "metadata": {},
   "source": [
    "> Look again at that dot. That's here. That's home. That's us. On it everyone you love, everyone you know, everyone you \n",
    "> ever heard of, every human being who ever was, lived out their lives. The aggregate of our joy and suffering, thousands \n",
    "> of confident religions, ideologies, and economic doctrines, every hunter and forager, every hero and coward, every creator \n",
    "> and destroyer of civilization, every king and peasant, every young couple in love, every mother and father, hopeful child, \n",
    "> inventor and explorer, every teacher of morals, every corrupt politician, every \"superstar,\" every \"supreme leader,\" every \n",
    "> saint and sinner in the history of our species lived there--on a mote of dust suspended in a sunbeam.\n",
    "\n",
    "> The Earth is a very small stage in a vast cosmic arena. Think of the rivers of blood spilled by all those generals and\n",
    "emperors \n",
    "> so that, in glory and triumph, they could become the momentary masters of a fraction of a dot. Think of the endless cruelties \n",
    "> visited by the inhabitants of one corner of this pixel on the scarcely distinguishable inhabitants of some other corner, how \n",
    "> frequent their misunderstandings, how eager they are to kill one another, how fervent their hatreds.\n",
    "\n",
    "<cite> Carl Sagan, Pale Blue Dot, 1994 </cite>"
   ]
  },
  {
   "cell_type": "markdown",
   "metadata": {},
   "source": [
    "> Look again at that dot. That's here. That's home. That's us. On it everyone you love, everyone you know, everyone you \n",
    "> ever heard of, every human being who ever was, lived out their lives. The aggregate of our joy and suffering, thousands \n",
    "> of confident religions, ideologies, and economic doctrines, every hunter and forager, every hero and coward, every creator \n",
    "> and destroyer of civilization, every king and peasant, every young couple in love, every mother and father, hopeful child, \n",
    "> inventor and explorer, every teacher of morals, every corrupt politician, every \"superstar,\" every \"supreme leader,\" every \n",
    "> saint and sinner in the history of our species lived there--on a mote of dust suspended in a sunbeam.\n",
    "\n",
    "> The Earth is a very small stage in a vast cosmic arena. Think of the rivers of blood spilled by all those generals and\n",
    "emperors \n",
    "> so that, in glory and triumph, they could become the momentary masters of a fraction of a dot. Think of the endless cruelties \n",
    "> visited by the inhabitants of one corner of this pixel on the scarcely distinguishable inhabitants of some other corner, how \n",
    "> frequent their misunderstandings, how eager they are to kill one another, how fervent their hatreds.\n",
    "\n",
    "<cite> Carl Sagan, Pale Blue Dot, 1994 </cite>"
   ]
  },
  {
   "cell_type": "code",
   "execution_count": null,
   "metadata": {},
   "outputs": [],
   "source": []
  }
 ],
 "metadata": {
  "kernelspec": {
   "display_name": "Python 3",
   "language": "python",
   "name": "python3"
  },
  "language_info": {
   "codemirror_mode": {
    "name": "ipython",
    "version": 3
   },
   "file_extension": ".py",
   "mimetype": "text/x-python",
   "name": "python",
   "nbconvert_exporter": "python",
   "pygments_lexer": "ipython3",
   "version": "3.6.5"
  }
 },
 "nbformat": 4,
 "nbformat_minor": 2
}

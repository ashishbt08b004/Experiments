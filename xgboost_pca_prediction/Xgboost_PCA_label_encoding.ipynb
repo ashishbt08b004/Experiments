{
 "cells": [
  {
   "cell_type": "markdown",
   "metadata": {},
   "source": [
    "#### 1. Importing the required packages"
   ]
  },
  {
   "cell_type": "code",
   "execution_count": 203,
   "metadata": {},
   "outputs": [],
   "source": [
    "import os\n",
    "import pandas as pd\n",
    "import numpy as np\n",
    "from sklearn import preprocessing\n",
    "from sklearn.decomposition import PCA\n",
    "from sklearn.preprocessing import scale\n",
    "import matplotlib.pyplot as plt\n",
    "import xgboost"
   ]
  },
  {
   "cell_type": "markdown",
   "metadata": {},
   "source": [
    "#### 2. Changing the working directory"
   ]
  },
  {
   "cell_type": "code",
   "execution_count": 204,
   "metadata": {},
   "outputs": [],
   "source": [
    "os.chdir('C:/Users/Indium Software/Documents/MEGA/Simplilearn/Project')"
   ]
  },
  {
   "cell_type": "markdown",
   "metadata": {},
   "source": [
    "#### 3. Reading Train and Test data"
   ]
  },
  {
   "cell_type": "code",
   "execution_count": 208,
   "metadata": {
    "scrolled": true
   },
   "outputs": [],
   "source": [
    "train = pd.read_csv('train.csv')\n",
    "test = pd.read_csv('test.csv')"
   ]
  },
  {
   "cell_type": "markdown",
   "metadata": {},
   "source": [
    "#### 4. Preparation for removing columns with zero variance # Not Used"
   ]
  },
  {
   "cell_type": "code",
   "execution_count": 31,
   "metadata": {},
   "outputs": [
    {
     "name": "stdout",
     "output_type": "stream",
     "text": [
      "The variables ['X11', 'X93', 'X107', 'X233', 'X235', 'X268', 'X289', 'X290', 'X293', 'X297', 'X330', 'X347'] have been dropped as they have zero variance\n"
     ]
    }
   ],
   "source": [
    "#train.dtypes[train.dtypes=='float64'or train.dtypes == 'int64']\n",
    "varcs = train.var(axis=0)\n",
    "varcs = varcs[varcs == 0]\n",
    "to_drop = list(varcs.index)\n",
    "dt = train.drop(to_drop, axis=1)\n",
    "print(\"The variables {} have been dropped as they have zero variance\".format(to_drop))"
   ]
  },
  {
   "cell_type": "markdown",
   "metadata": {},
   "source": [
    "#### 5. Function for removing columns with zero variance"
   ]
  },
  {
   "cell_type": "code",
   "execution_count": 209,
   "metadata": {},
   "outputs": [],
   "source": [
    "# drops the variables with zero variance in a given dataset\n",
    "def drop_zerovarcs(data):\n",
    "    varcs = data.var(axis=0)\n",
    "    varcs = varcs[varcs == 0]\n",
    "    to_drop = list(varcs.index)\n",
    "    #data_new = data.drop(to_drop, axis=1)\n",
    "    print(\"The variables {} have been dropped as they have zero variance\".format(to_drop))\n",
    "    return to_drop"
   ]
  },
  {
   "cell_type": "markdown",
   "metadata": {},
   "source": [
    "#### 6. Getting list of zero variance columns in train and test datasets"
   ]
  },
  {
   "cell_type": "code",
   "execution_count": 210,
   "metadata": {},
   "outputs": [
    {
     "name": "stdout",
     "output_type": "stream",
     "text": [
      "The variables ['X257', 'X258', 'X295', 'X296', 'X369'] have been dropped as they have zero variance\n",
      "The variables ['X11', 'X93', 'X107', 'X233', 'X235', 'X268', 'X289', 'X290', 'X293', 'X297', 'X330', 'X347'] have been dropped as they have zero variance\n"
     ]
    }
   ],
   "source": [
    "test_drops = drop_zerovarcs(test)\n",
    "train_drops = drop_zerovarcs(train)\n",
    "test_train_drop = [x for x in train_drops if x not in test_drops]"
   ]
  },
  {
   "cell_type": "markdown",
   "metadata": {},
   "source": [
    "#### Not used"
   ]
  },
  {
   "cell_type": "code",
   "execution_count": null,
   "metadata": {},
   "outputs": [],
   "source": [
    "# drops columns from test where variance is zero in test data as well as the columns for which variance is zero in train data\n",
    "# train and test have different columns which have zero variance\n",
    "# Hence dropping the same columns in train and test data. Dropping the columns with zero variance in train data from test data.\n",
    "test.drop(test_train_drop, axis=1,inplace=True)"
   ]
  },
  {
   "cell_type": "markdown",
   "metadata": {},
   "source": [
    "#### 7. Remove zero variance columns in train data from test data"
   ]
  },
  {
   "cell_type": "code",
   "execution_count": 212,
   "metadata": {},
   "outputs": [],
   "source": [
    "# drop the columns in test for which varaince is zero in train data\n",
    "train.drop(train_drops, axis=1,inplace=True)\n",
    "#len(list(train.drop(train_drops,axis=1).columns))\n",
    "test.drop(train_drops,axis=1,inplace=True)\n",
    "#len(list(test.drop(train_drops,axis=1).columns))"
   ]
  },
  {
   "cell_type": "markdown",
   "metadata": {},
   "source": [
    "#### 8. Finding Unique, Total Count and NAs and writing it to a csv"
   ]
  },
  {
   "cell_type": "code",
   "execution_count": 213,
   "metadata": {},
   "outputs": [],
   "source": [
    "# Find Unique, Total Count and NAs \n",
    "def uni_ct_na(data):\n",
    "    unique = data.apply(lambda x: x.nunique(), axis=0)\n",
    "    count = data.apply(lambda x: x.count(), axis=0)\n",
    "    null = data.isnull().sum()\n",
    "    na = data.isna().sum()\n",
    "    summary_df = pd.DataFrame([unique, count, null, na],index=['Unique', 'Count', 'Null', 'NA'])\n",
    "    summary_df.T.to_csv('summary_df.csv')"
   ]
  },
  {
   "cell_type": "code",
   "execution_count": 214,
   "metadata": {},
   "outputs": [],
   "source": [
    "uni_ct_na(train)"
   ]
  },
  {
   "cell_type": "markdown",
   "metadata": {},
   "source": [
    "#### 9. Finding the list of categorical variables"
   ]
  },
  {
   "cell_type": "code",
   "execution_count": 215,
   "metadata": {},
   "outputs": [],
   "source": [
    "#Finding the list of categorical variables\n",
    "obj = list(train.dtypes[train.dtypes=='object'].index)"
   ]
  },
  {
   "cell_type": "markdown",
   "metadata": {},
   "source": [
    "#### 10. Label Encoding Categorical variables in train and test datasets"
   ]
  },
  {
   "cell_type": "code",
   "execution_count": 216,
   "metadata": {},
   "outputs": [],
   "source": [
    "#Label Encoding categorical variables\n",
    "for cols in obj:\n",
    "    le = preprocessing.LabelEncoder()\n",
    "    train[cols+'_le'] = le.fit_transform(train[cols])\n",
    "train.drop(obj,axis=1,inplace=True)\n",
    "\n",
    "for cols in obj:\n",
    "    le = preprocessing.LabelEncoder()\n",
    "    test[cols+'_le'] = le.fit_transform(test[cols])\n",
    "test.drop(obj,axis=1,inplace=True)"
   ]
  },
  {
   "cell_type": "markdown",
   "metadata": {},
   "source": [
    "#### 11. Deleting categorical variables from train and test"
   ]
  },
  {
   "cell_type": "code",
   "execution_count": 217,
   "metadata": {},
   "outputs": [],
   "source": [
    "# Keeping only numeric variables to apply PCA\n",
    "train_cols = train.columns\n",
    "train_not_obj = [x for x in train_cols if x not in obj]\n",
    "train = train[train_not_obj]\n",
    "\n",
    "test_cols = test.columns\n",
    "test_not_obj = [x for x in test_cols if x not in obj]\n",
    "test = test[test_not_obj]"
   ]
  },
  {
   "cell_type": "markdown",
   "metadata": {},
   "source": [
    "#### 12. Plotting Scree plot to get the number of components which will explain 90% variance in data"
   ]
  },
  {
   "cell_type": "code",
   "execution_count": 218,
   "metadata": {},
   "outputs": [
    {
     "data": {
      "text/plain": [
       "[<matplotlib.lines.Line2D at 0x1e5dd91c5c0>]"
      ]
     },
     "execution_count": 218,
     "metadata": {},
     "output_type": "execute_result"
    },
    {
     "data": {
      "image/png": "[encoded data removed]",
      "text/plain": [
       "<Figure size 432x288 with 1 Axes>"
      ]
     },
     "metadata": {},
     "output_type": "display_data"
    }
   ],
   "source": [
    "# PLotting Scree plot to get the number of components which will explain 90% variance in data\n",
    "X=train.iloc[:,1:].values\n",
    "X = scale(X)\n",
    "pca = PCA(n_components=360)\n",
    "pca.fit(X)\n",
    "var= pca.explained_variance_ratio_\n",
    "var1=np.cumsum(np.round(pca.explained_variance_ratio_, decimals=4)*100)\n",
    "plt.plot(var1)\n"
   ]
  },
  {
   "cell_type": "markdown",
   "metadata": {},
   "source": [
    "#### 13. Performing PCA on train and test data"
   ]
  },
  {
   "cell_type": "code",
   "execution_count": 219,
   "metadata": {},
   "outputs": [],
   "source": [
    "# Performing PCA on train and test data\n",
    "X=train.iloc[:,1:].values\n",
    "X = scale(X)\n",
    "pca = PCA(n_components=150)\n",
    "pca.fit(X)\n",
    "train_pca = pca.transform(X)\n",
    "train_pca.shape\n",
    "\n",
    "X_test=train.iloc[:,1:].values\n",
    "X_test = scale(X)\n",
    "test_pca = pca.transform(X_test)"
   ]
  },
  {
   "cell_type": "markdown",
   "metadata": {},
   "source": [
    "#### 14.Separating x and y variables to be passed to xgboost"
   ]
  },
  {
   "cell_type": "code",
   "execution_count": 220,
   "metadata": {},
   "outputs": [],
   "source": [
    "# Separating x and y variables to be passed to xgboost\n",
    "train_y = train_pca[:,1]\n",
    "train_x = train_pca[:,2:]\n",
    "test_y = test_pca[:,1]\n",
    "test_x = test_pca[:,2:]"
   ]
  },
  {
   "cell_type": "markdown",
   "metadata": {},
   "source": [
    "#### 15. Defining xgboost model"
   ]
  },
  {
   "cell_type": "code",
   "execution_count": 221,
   "metadata": {},
   "outputs": [
    {
     "name": "stderr",
     "output_type": "stream",
     "text": [
      "C:\\Users\\Indium Software\\Anaconda2\\lib\\site-packages\\xgboost\\core.py:614: UserWarning: Use subset (sliced data) of np.ndarray is not recommended because it will generate extra copies and increase memory consumption\n",
      "  \"because it will generate extra copies and increase memory consumption\")\n"
     ]
    },
    {
     "name": "stdout",
     "output_type": "stream",
     "text": [
      "[22:38:48] WARNING: C:/Jenkins/workspace/xgboost-win64_release_0.90/src/objective/regression_obj.cu:152: reg:linear is now deprecated in favor of reg:squarederror.\n"
     ]
    },
    {
     "data": {
      "text/plain": [
       "XGBRegressor(base_score=0.5, booster='gbtree', colsample_bylevel=1,\n",
       "       colsample_bynode=1, colsample_bytree=1, gamma=0,\n",
       "       importance_type='gain', learning_rate=0.1, max_delta_step=0,\n",
       "       max_depth=3, min_child_weight=1, missing=None, n_estimators=100,\n",
       "       n_jobs=1, nthread=None, objective='reg:linear', random_state=0,\n",
       "       reg_alpha=0, reg_lambda=1, scale_pos_weight=1, seed=None,\n",
       "       silent=None, subsample=1, verbosity=1)"
      ]
     },
     "execution_count": 221,
     "metadata": {},
     "output_type": "execute_result"
    }
   ],
   "source": [
    "# Fitting a xgboost model with default options\n",
    "model = xgboost.XGBRegressor() \n",
    "model.fit(train_x, train_y)"
   ]
  },
  {
   "cell_type": "markdown",
   "metadata": {},
   "source": [
    "#### 16. Predict from the xgboost model"
   ]
  },
  {
   "cell_type": "code",
   "execution_count": 222,
   "metadata": {},
   "outputs": [],
   "source": [
    "# Predict from the model on test data\n",
    "pred_y = model.predict(test_x)"
   ]
  },
  {
   "cell_type": "code",
   "execution_count": 189,
   "metadata": {},
   "outputs": [
    {
     "data": {
      "text/plain": [
       "array([-2.93283525,  0.44568795, 21.43457786, ...,  0.72800715,\n",
       "        0.69375157, -1.12324901])"
      ]
     },
     "execution_count": 189,
     "metadata": {},
     "output_type": "execute_result"
    }
   ],
   "source": [
    "test_y"
   ]
  },
  {
   "cell_type": "markdown",
   "metadata": {},
   "source": [
    "#### 17. Calculating Root Mean Square Error"
   ]
  },
  {
   "cell_type": "code",
   "execution_count": 223,
   "metadata": {},
   "outputs": [
    {
     "data": {
      "text/plain": [
       "0.6012976548070404"
      ]
     },
     "execution_count": 223,
     "metadata": {},
     "output_type": "execute_result"
    }
   ],
   "source": [
    "# Calculating Root Mean Square Error\n",
    "rmse = np.sqrt(np.sum((pred_y-test_y)**2)/len(pred_y))\n",
    "rmse"
   ]
  }
 ],
 "metadata": {
  "kernelspec": {
   "display_name": "Python 3",
   "language": "python",
   "name": "python3"
  },
  "language_info": {
   "codemirror_mode": {
    "name": "ipython",
    "version": 3
   },
   "file_extension": ".py",
   "mimetype": "text/x-python",
   "name": "python",
   "nbconvert_exporter": "python",
   "pygments_lexer": "ipython3",
   "version": "3.6.5"
  }
 },
 "nbformat": 4,
 "nbformat_minor": 2
}

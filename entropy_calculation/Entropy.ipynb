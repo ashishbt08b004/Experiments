{
 "cells": [
  {
   "cell_type": "code",
   "execution_count": 10,
   "metadata": {},
   "outputs": [],
   "source": [
    "# Defining unique values of the categorical variables\n",
    "se_status_u = ['Rich','Poor','Affluent']\n",
    "purchase_u = ['yes','no','yes']\n"
   ]
  },
  {
   "cell_type": "code",
   "execution_count": 11,
   "metadata": {},
   "outputs": [],
   "source": [
    "# Creating the dataframe with 10,000 rows and 2 columns viz. purchase and se_status\n",
    "import random\n",
    "import pandas as pd\n",
    "\n",
    "se_status = []\n",
    "purchase = []\n",
    "for i in range(10000):\n",
    "    se_status.append(random.choice(se_status_u))\n",
    "    purchase.append(random.choice(purchase_u))\n",
    "df = pd.DataFrame({'se_status':se_status,'purchase':purchase})"
   ]
  },
  {
   "cell_type": "code",
   "execution_count": 22,
   "metadata": {},
   "outputs": [],
   "source": [
    "# Raw calculation for calculating initial entropy of the dataframe\n",
    "\n",
    "import numpy as np\n",
    "y_u = list(df['purchase'].unique())\n",
    "p = [df[df['purchase'] == res].shape[0]/df.shape[0] for res in y_u]\n",
    "entropy = np.sum([-(e*np.log2(e)) for e in p])"
   ]
  },
  {
   "cell_type": "code",
   "execution_count": 57,
   "metadata": {},
   "outputs": [
    {
     "data": {
      "text/plain": [
       "0.9197555231809029"
      ]
     },
     "execution_count": 57,
     "metadata": {},
     "output_type": "execute_result"
    }
   ],
   "source": [
    "# Function for calculating initial entropy of the dataframe\n",
    "\n",
    "def int_entropy(df, ycol):\n",
    "    y_u = list(df[ycol].unique())\n",
    "    p = [df[df[ycol] == res].shape[0]/df.shape[0] for res in y_u]\n",
    "    entropy = np.sum([-(e*np.log2(e)) for e in p]) \n",
    "    return entropy\n",
    "df_int_entropy = int_entropy(df,'purchase')\n",
    "df_int_entropy"
   ]
  },
  {
   "cell_type": "code",
   "execution_count": 38,
   "metadata": {},
   "outputs": [
    {
     "name": "stdout",
     "output_type": "stream",
     "text": [
      "('no', 'Affluent')\n",
      "('no', 'Poor')\n",
      "('no', 'Rich')\n",
      "('yes', 'Affluent')\n",
      "('yes', 'Poor')\n",
      "('yes', 'Rich')\n"
     ]
    }
   ],
   "source": [
    "# Unique groups for the 2 columns\n",
    "groups = []\n",
    "for group,values in df.groupby(['purchase','se_status']):\n",
    "    print(group)\n",
    "    groups.append(group)"
   ]
  },
  {
   "cell_type": "code",
   "execution_count": 58,
   "metadata": {},
   "outputs": [
    {
     "data": {
      "text/plain": [
       "0.8349566717020409"
      ]
     },
     "execution_count": 58,
     "metadata": {},
     "output_type": "execute_result"
    }
   ],
   "source": [
    "# Raw calculation for calculating entropy of a particular column of the dataframe\n",
    "\n",
    "y_u = df['purchase'].unique()\n",
    "col_u = df['se_status'].unique()\n",
    "ent_colval = []\n",
    "final_ent_col = 0 \n",
    "for colval in col_u:\n",
    "        p = [(df[(df['purchase'] == yval) & (df['se_status'] == colval)]).shape[0]/(df['se_status'] == colval).shape[0] for yval in y_u]\n",
    "        ent_colval = np.sum([-(e*np.log2(e)) for e in p]) \n",
    "        final_ent_col += ent_colval* ((df[df['se_status'] == colval]).shape[0]/(df.shape[0]))\n",
    "final_ent_col\n",
    "        "
   ]
  },
  {
   "cell_type": "code",
   "execution_count": 59,
   "metadata": {},
   "outputs": [
    {
     "name": "stdout",
     "output_type": "stream",
     "text": [
      "0.9197555231809029\n",
      "0.08479885147886201\n"
     ]
    }
   ],
   "source": [
    "# Function for calculating entropy of a particular column of the dataframe\n",
    "\n",
    "def col_entropy(df,ycol,col):\n",
    "    y_u = df[ycol].unique()\n",
    "    col_u = df[col].unique()\n",
    "    ent_colval = []\n",
    "    final_ent_col = 0 \n",
    "    for colval in col_u:\n",
    "            p = [(df[(df[ycol] == yval) & (df[col] == colval)]).shape[0]/(df[col] == colval).shape[0] for yval in y_u]\n",
    "            ent_colval = np.sum([-(e*np.log2(e)) for e in p]) \n",
    "            final_ent_col += ent_colval* ((df[df[col] == colval]).shape[0]/(df.shape[0]))\n",
    "    return final_ent_col  \n",
    "\n",
    "df_se_entropy = col_entropy(df,'purchase','se_status')\n",
    "print(df_int_entropy)\n",
    "information_gain = df_int_entropy - df_se_entropy\n",
    "print(information_gain)"
   ]
  },
  {
   "cell_type": "code",
   "execution_count": 65,
   "metadata": {},
   "outputs": [
    {
     "data": {
      "text/plain": [
       "[<matplotlib.lines.Line2D at 0x239881d5908>]"
      ]
     },
     "execution_count": 65,
     "metadata": {},
     "output_type": "execute_result"
    },
    {
     "data": {
      "image/png": "[encoded data removed]",
      "text/plain": [
       "<Figure size 432x288 with 1 Axes>"
      ]
     },
     "metadata": {},
     "output_type": "display_data"
    }
   ],
   "source": [
    "import matplotlib.pyplot as plt\n",
    "%matplotlib inline\n",
    "entropies = [-(p/100)*np.log2(p/100) for p in range(1,101)]\n",
    "plt.plot(entropies)"
   ]
  },
  {
   "cell_type": "markdown",
   "metadata": {},
   "source": [
    "$$ initEnt = \\sum \\limits_{i=1}^{n} {p_i*log_{2}p_i} $$"
   ]
  },
  {
   "cell_type": "markdown",
   "metadata": {},
   "source": [
    "$$ catEnt =\\sum \\limits_{j=1}^{m} (f_j*(\\sum \\limits_{i=1}^{n} {p_{ij}*log_{2}p_{ij}})) $$"
   ]
  },
  {
   "cell_type": "code",
   "execution_count": null,
   "metadata": {},
   "outputs": [],
   "source": []
  }
 ],
 "metadata": {
  "kernelspec": {
   "display_name": "Python 3",
   "language": "python",
   "name": "python3"
  },
  "language_info": {
   "codemirror_mode": {
    "name": "ipython",
    "version": 3
   },
   "file_extension": ".py",
   "mimetype": "text/x-python",
   "name": "python",
   "nbconvert_exporter": "python",
   "pygments_lexer": "ipython3",
   "version": "3.6.5"
  }
 },
 "nbformat": 4,
 "nbformat_minor": 2
}

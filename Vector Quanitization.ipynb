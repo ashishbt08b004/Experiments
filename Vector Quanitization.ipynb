{
 "cells": [
  {
   "cell_type": "code",
   "execution_count": 22,
   "metadata": {},
   "outputs": [],
   "source": [
    "import random\n",
    "import numpy as np\n",
    "from math import sqrt"
   ]
  },
  {
   "cell_type": "code",
   "execution_count": 5,
   "metadata": {},
   "outputs": [],
   "source": [
    "# Generating random Query and Database data for developing the functions\n",
    "ndim = 16      # dimension of features\n",
    "ndb = 10000    # number of dababase items\n",
    "nqry = 10      # number of queries\n",
    "\n",
    "X_db = np.random.random((ndb, ndim))\n",
    "X_qry = np.random.random((nqry, ndim))"
   ]
  },
  {
   "cell_type": "code",
   "execution_count": 68,
   "metadata": {},
   "outputs": [],
   "source": [
    "# Initialises the set of n_codebooks with the rows from X_db\n",
    "def init_codebook(X_db,n_codebook):\n",
    "    codebook_vector = [list(X_db[random.randrange(len(X_db))]) for i in range(n_codebook)]\n",
    "    codebook_dict = {}\n",
    "    for i, cbvec in enumerate(codebook_vector):\n",
    "        codebook_dict[i] = cbvec                   \n",
    "    return codebook_dict\n",
    "\n",
    "codebook_dict2 = init_codebook(X_db,10)"
   ]
  },
  {
   "cell_type": "code",
   "execution_count": 47,
   "metadata": {},
   "outputs": [
    {
     "data": {
      "text/plain": [
       "dict"
      ]
     },
     "execution_count": 47,
     "metadata": {},
     "output_type": "execute_result"
    }
   ],
   "source": [
    "type(codebook_dict1)"
   ]
  },
  {
   "cell_type": "code",
   "execution_count": 39,
   "metadata": {},
   "outputs": [],
   "source": [
    "# calculate the Euclidean distance between two vectors\n",
    "def euclidean_distance(row1, row2):\n",
    "    distance = 0.0\n",
    "    for i in range(len(row1)-1):\n",
    "        distance += (row1[i] - row2[i])**2\n",
    "    return sqrt(distance)\n",
    "\n",
    "#euclidean_distance(X_db[1],X_db[2])"
   ]
  },
  {
   "cell_type": "code",
   "execution_count": 57,
   "metadata": {},
   "outputs": [
    {
     "data": {
      "text/plain": [
       "7"
      ]
     },
     "execution_count": 57,
     "metadata": {},
     "output_type": "execute_result"
    }
   ],
   "source": [
    "# Best matching vector trial\n",
    "dist = []\n",
    "for key in codebook_dict1:\n",
    "    dist.append((key,euclidean_distance(X_db[1],codebook_dict1[key])))\n",
    "dist.sort(key = lambda x:x[1])\n",
    "dist[0][0]\n",
    "    "
   ]
  },
  {
   "cell_type": "code",
   "execution_count": 74,
   "metadata": {},
   "outputs": [
    {
     "name": "stderr",
     "output_type": "stream",
     "text": [
      "C:\\Users\\Indium Software\\Anaconda2\\lib\\site-packages\\ipykernel_launcher.py:5: RuntimeWarning: overflow encountered in double_scalars\n",
      "  \"\"\"\n"
     ]
    },
    {
     "data": {
      "text/plain": [
       "0"
      ]
     },
     "execution_count": 74,
     "metadata": {},
     "output_type": "execute_result"
    }
   ],
   "source": [
    "# Function to return the index of best matching codebook vector to a given query vector\n",
    "\n",
    "def best_matching_vector(queryrow,codebook_dict):\n",
    "    dist = []\n",
    "    for key in codebook_dict:\n",
    "        dist.append((key,euclidean_distance(queryrow,codebook_dict1[key])))\n",
    "    dist.sort(key = lambda x:x[1])\n",
    "    return dist[0][0]\n",
    "\n",
    "best_matching_vector(X_qry[4],codebook_dict2)    "
   ]
  },
  {
   "cell_type": "code",
   "execution_count": 67,
   "metadata": {},
   "outputs": [
    {
     "name": "stderr",
     "output_type": "stream",
     "text": [
      "C:\\Users\\Indium Software\\Anaconda2\\lib\\site-packages\\ipykernel_launcher.py:5: RuntimeWarning: overflow encountered in double_scalars\n",
      "  \"\"\"\n"
     ]
    }
   ],
   "source": [
    "# For creating optimum codebook vectors\n",
    "epochs = 10\n",
    "train = X_db[:3000,]\n",
    "lrate = 0.3\n",
    "for epoch in range(epochs):\n",
    "    errorsum = 0\n",
    "    for row in train:\n",
    "        bmv_index = best_matching_vector(row,codebook_dict1)\n",
    "        for i in range(len(row)-1):\n",
    "            error = row[i] - codebook_dict1[bmv_index][i]\n",
    "            errorsum += error**2\n",
    "            if row[i] > codebook_dict1[bmv_index][i]:\n",
    "                codebook_dict1[bmv_index][i] += lrate*error\n",
    "            if row[i] < codebook_dict1[bmv_index][i]:\n",
    "                codebook_dict1[bmv_index][i] -= lrate*error\n",
    "#codebook_dict1"
   ]
  },
  {
   "cell_type": "code",
   "execution_count": 75,
   "metadata": {},
   "outputs": [
    {
     "ename": "SyntaxError",
     "evalue": "unexpected EOF while parsing (<ipython-input-75-7ae762d1026c>, line 2)",
     "output_type": "error",
     "traceback": [
      "\u001b[1;36m  File \u001b[1;32m\"<ipython-input-75-7ae762d1026c>\"\u001b[1;36m, line \u001b[1;32m2\u001b[0m\n\u001b[1;33m    #print(best_matching_vector(row,codebook_dict2))\u001b[0m\n\u001b[1;37m                                                    ^\u001b[0m\n\u001b[1;31mSyntaxError\u001b[0m\u001b[1;31m:\u001b[0m unexpected EOF while parsing\n"
     ]
    }
   ],
   "source": [
    "for row in X_qry:\n",
    "    #print(best_matching_vector(row,codebook_dict2))"
   ]
  },
  {
   "cell_type": "code",
   "execution_count": null,
   "metadata": {},
   "outputs": [],
   "source": []
  }
 ],
 "metadata": {
  "kernelspec": {
   "display_name": "Python 3",
   "language": "python",
   "name": "python3"
  },
  "language_info": {
   "codemirror_mode": {
    "name": "ipython",
    "version": 3
   },
   "file_extension": ".py",
   "mimetype": "text/x-python",
   "name": "python",
   "nbconvert_exporter": "python",
   "pygments_lexer": "ipython3",
   "version": "3.6.5"
  }
 },
 "nbformat": 4,
 "nbformat_minor": 2
}
